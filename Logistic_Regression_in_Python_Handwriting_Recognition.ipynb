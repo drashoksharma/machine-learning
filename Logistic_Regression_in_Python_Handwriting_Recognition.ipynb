{
  "nbformat": 4,
  "nbformat_minor": 0,
  "metadata": {
    "colab": {
      "name": "Logistic Regression in Python: Handwriting Recognition.ipynb",
      "provenance": [],
      "authorship_tag": "ABX9TyPCj8oMgyYvZ0Cahblri+pu",
      "include_colab_link": true
    },
    "kernelspec": {
      "name": "python3",
      "display_name": "Python 3"
    },
    "language_info": {
      "name": "python"
    }
  },
  "cells": [
    {
      "cell_type": "markdown",
      "metadata": {
        "id": "view-in-github",
        "colab_type": "text"
      },
      "source": [
        "<a href=\"https://colab.research.google.com/github/drashoksharma/machine-learning/blob/main/Logistic_Regression_in_Python_Handwriting_Recognition.ipynb\" target=\"_parent\"><img src=\"https://colab.research.google.com/assets/colab-badge.svg\" alt=\"Open In Colab\"/></a>"
      ]
    },
    {
      "cell_type": "code",
      "execution_count": 1,
      "metadata": {
        "id": "qgSxKXtqXos8"
      },
      "outputs": [],
      "source": [
        "#use a dataset with 1797 observations, each of which is an image of one handwritten digit. \n",
        "#Each image has 64 px, with a width of 8 px and a height of 8 px."
      ]
    },
    {
      "cell_type": "code",
      "source": [
        "#Step 1: Import Packages for Hand recongition\n",
        "import matplotlib.pyplot as plt\n",
        "import numpy as np\n",
        "from sklearn.datasets import load_digits\n",
        "from sklearn.linear_model import LogisticRegression\n",
        "from sklearn.metrics import classification_report, confusion_matrix\n",
        "from sklearn.model_selection import train_test_split\n",
        "from sklearn.preprocessing import StandardScaler"
      ],
      "metadata": {
        "id": "5Vpv1GJMXw7H"
      },
      "execution_count": 2,
      "outputs": []
    },
    {
      "cell_type": "code",
      "source": [
        "#Step 2: Get Data directly from scikit-learn with load_digits()\n",
        "x, y = load_digits(return_X_y=True)"
      ],
      "metadata": {
        "id": "pIm7PUAAYajQ"
      },
      "execution_count": 3,
      "outputs": []
    },
    {
      "cell_type": "code",
      "source": [
        "#x is a multi-dimensional array with 1797 rows and 64 columns with integers from 0 to 16. "
      ],
      "metadata": {
        "colab": {
          "base_uri": "https://localhost:8080/"
        },
        "id": "eicNY-2qYlDN",
        "outputId": "ea1febdb-aa7b-4f4d-d8aa-0ea2fa97e5ff"
      },
      "execution_count": 4,
      "outputs": [
        {
          "output_type": "execute_result",
          "data": {
            "text/plain": [
              "array([[ 0.,  0.,  5., ...,  0.,  0.,  0.],\n",
              "       [ 0.,  0.,  0., ..., 10.,  0.,  0.],\n",
              "       [ 0.,  0.,  0., ..., 16.,  9.,  0.],\n",
              "       ...,\n",
              "       [ 0.,  0.,  1., ...,  6.,  0.,  0.],\n",
              "       [ 0.,  0.,  2., ..., 12.,  0.,  0.],\n",
              "       [ 0.,  0., 10., ..., 12.,  1.,  0.]])"
            ]
          },
          "metadata": {},
          "execution_count": 4
        }
      ]
    },
    {
      "cell_type": "code",
      "source": [
        "#y is an one-dimensional array with 1797 integers between 0 and 9.\n",
        "\n",
        "y"
      ],
      "metadata": {
        "colab": {
          "base_uri": "https://localhost:8080/"
        },
        "id": "IrD0HD-RYrXV",
        "outputId": "d2407e8d-6742-4702-c47d-a9964c04e7d8"
      },
      "execution_count": 5,
      "outputs": [
        {
          "output_type": "execute_result",
          "data": {
            "text/plain": [
              "array([0, 1, 2, ..., 8, 9, 8])"
            ]
          },
          "metadata": {},
          "execution_count": 5
        }
      ]
    },
    {
      "cell_type": "code",
      "source": [
        "#Step 3: Split Data training set and the test set\n",
        "x_train, x_test, y_train, y_test =\\\n",
        "    train_test_split(x, y, test_size=0.2, random_state=0)"
      ],
      "metadata": {
        "id": "fvP1xZjCY8OW"
      },
      "execution_count": 6,
      "outputs": []
    },
    {
      "cell_type": "code",
      "source": [
        "#train_test_split() accepts x and y\n",
        "#x_train: the part of x used to fit the model\n",
        "#x_test: the part of x used to evaluate the model\n",
        "#y_train: the part of y that corresponds to x_train\n",
        "#y_test: the part of y that corresponds to x_test"
      ],
      "metadata": {
        "id": "hVZkUqhHZON8"
      },
      "execution_count": null,
      "outputs": []
    },
    {
      "cell_type": "code",
      "source": [
        "#Step 4 Scale Data Standardization  the mean of each column becomes equal to zero, and the standard deviation of each column is one\n",
        "#standardize  inputs by creating an instance of StandardScaler and calling .fit_transform() on it\n",
        "scaler = StandardScaler()\n",
        "x_train = scaler.fit_transform(x_train)"
      ],
      "metadata": {
        "id": "ePQsmuM-Zisl"
      },
      "execution_count": 7,
      "outputs": []
    },
    {
      "cell_type": "code",
      "source": [
        "#Step 5: Create a Model and Train the model\n",
        "model = LogisticRegression(solver='liblinear', C=0.05, multi_class='ovr',\n",
        "                           random_state=0)\n",
        "model.fit(x_train, y_train)"
      ],
      "metadata": {
        "colab": {
          "base_uri": "https://localhost:8080/"
        },
        "id": "MhaON0VaZ0yV",
        "outputId": "38632ddb-33b6-4e95-9f0c-ff2a1ef81070"
      },
      "execution_count": 8,
      "outputs": [
        {
          "output_type": "execute_result",
          "data": {
            "text/plain": [
              "LogisticRegression(C=0.05, multi_class='ovr', random_state=0,\n",
              "                   solver='liblinear')"
            ]
          },
          "metadata": {},
          "execution_count": 8
        }
      ]
    },
    {
      "cell_type": "code",
      "source": [
        "#Step 4: Evaluate the Model\n",
        "x_test = scaler.transform(x_test)"
      ],
      "metadata": {
        "id": "ElUUIC0dZ_AC"
      },
      "execution_count": 9,
      "outputs": []
    },
    {
      "cell_type": "code",
      "source": [
        "y_pred = model.predict(x_test)"
      ],
      "metadata": {
        "id": "69uIVjAiaGUs"
      },
      "execution_count": 10,
      "outputs": []
    },
    {
      "cell_type": "code",
      "source": [
        "model.score(x_train, y_train)"
      ],
      "metadata": {
        "colab": {
          "base_uri": "https://localhost:8080/"
        },
        "id": "9reZVD51aJkt",
        "outputId": "2b83f0ab-7abb-4d68-943f-be3ceae8f09e"
      },
      "execution_count": 11,
      "outputs": [
        {
          "output_type": "execute_result",
          "data": {
            "text/plain": [
              "0.964509394572025"
            ]
          },
          "metadata": {},
          "execution_count": 11
        }
      ]
    },
    {
      "cell_type": "code",
      "source": [
        "model.score(x_test, y_test)"
      ],
      "metadata": {
        "colab": {
          "base_uri": "https://localhost:8080/"
        },
        "id": "pUV_cdFiaMTg",
        "outputId": "ae4926a7-74bf-4dce-c89b-34fa813b20e4"
      },
      "execution_count": 12,
      "outputs": [
        {
          "output_type": "execute_result",
          "data": {
            "text/plain": [
              "0.9416666666666667"
            ]
          },
          "metadata": {},
          "execution_count": 12
        }
      ]
    },
    {
      "cell_type": "code",
      "source": [
        "confusion_matrix(y_test, y_pred)"
      ],
      "metadata": {
        "colab": {
          "base_uri": "https://localhost:8080/"
        },
        "id": "K0eHB5EDaO1H",
        "outputId": "bcfe2b7a-e869-43c3-e804-bb5349036394"
      },
      "execution_count": 13,
      "outputs": [
        {
          "output_type": "execute_result",
          "data": {
            "text/plain": [
              "array([[27,  0,  0,  0,  0,  0,  0,  0,  0,  0],\n",
              "       [ 0, 32,  0,  0,  0,  0,  1,  0,  1,  1],\n",
              "       [ 1,  1, 33,  1,  0,  0,  0,  0,  0,  0],\n",
              "       [ 0,  0,  1, 28,  0,  0,  0,  0,  0,  0],\n",
              "       [ 0,  0,  0,  0, 29,  0,  0,  1,  0,  0],\n",
              "       [ 0,  0,  0,  0,  0, 39,  0,  0,  0,  1],\n",
              "       [ 0,  1,  0,  0,  0,  0, 43,  0,  0,  0],\n",
              "       [ 0,  0,  0,  0,  0,  0,  0, 39,  0,  0],\n",
              "       [ 0,  2,  1,  2,  0,  0,  0,  1, 33,  0],\n",
              "       [ 0,  0,  0,  1,  0,  1,  0,  2,  1, 36]])"
            ]
          },
          "metadata": {},
          "execution_count": 13
        }
      ]
    },
    {
      "cell_type": "code",
      "source": [
        "ccm = confusion_matrix(y_test, y_pred)\n",
        "\n",
        "fig, ax = plt.subplots(figsize=(8, 8))\n",
        "ax.imshow(cm)\n",
        "ax.grid(False)\n",
        "ax.set_xlabel('Predicted outputs', fontsize=10, color='black')\n",
        "ax.set_ylabel('Actual outputs', fontsize=10, color='black')\n",
        "ax.xaxis.set(ticks=range(10))\n",
        "ax.yaxis.set(ticks=range(10))\n",
        "ax.set_ylim(9.5, -0.5)\n",
        "for i in range(10):\n",
        "    for j in range(10):\n",
        "        ax.text(j, i, cm[i, j], ha='center', va='center', color='white')\n",
        "plt.show()"
      ],
      "metadata": {
        "colab": {
          "base_uri": "https://localhost:8080/",
          "height": 497
        },
        "id": "SKawj7SqaSmN",
        "outputId": "dbd6aab4-b287-4266-ce45-f71f6d1b1417"
      },
      "execution_count": 19,
      "outputs": [
        {
          "output_type": "display_data",
          "data": {
            "text/plain": [
              "<Figure size 576x576 with 1 Axes>"
            ],
            "image/png": "[encoded data removed]"
          },
          "metadata": {
            "needs_background": "light"
          }
        }
      ]
    },
    {
      "cell_type": "code",
      "source": [
        "print(classification_report(y_test, y_pred))"
      ],
      "metadata": {
        "colab": {
          "base_uri": "https://localhost:8080/"
        },
        "id": "OXuzXvdya30i",
        "outputId": "fcc75c79-d6c3-4baa-eccc-f533bde17e6b"
      },
      "execution_count": 20,
      "outputs": [
        {
          "output_type": "stream",
          "name": "stdout",
          "text": [
            "              precision    recall  f1-score   support\n",
            "\n",
            "           0       0.96      1.00      0.98        27\n",
            "           1       0.89      0.91      0.90        35\n",
            "           2       0.94      0.92      0.93        36\n",
            "           3       0.88      0.97      0.92        29\n",
            "           4       1.00      0.97      0.98        30\n",
            "           5       0.97      0.97      0.97        40\n",
            "           6       0.98      0.98      0.98        44\n",
            "           7       0.91      1.00      0.95        39\n",
            "           8       0.94      0.85      0.89        39\n",
            "           9       0.95      0.88      0.91        41\n",
            "\n",
            "    accuracy                           0.94       360\n",
            "   macro avg       0.94      0.94      0.94       360\n",
            "weighted avg       0.94      0.94      0.94       360\n",
            "\n"
          ]
        }
      ]
    }
  ]
}